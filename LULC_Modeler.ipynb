{
 "cells": [
  {
   "cell_type": "code",
   "execution_count": 1,
   "metadata": {},
   "outputs": [],
   "source": [
    "# run this only if you have not installed the requried packages\n",
    "# !pip install numpy\n",
    "# !pip install pandas\n",
    "# !pip install matplotlib\n",
    "# !pip install seaborn\n",
    "# !pip install scikit-learn\n",
    "# !pip install rasterio\n",
    "# !pip install geopandas\n",
    "# !pip install fiona"
   ]
  },
  {
   "attachments": {},
   "cell_type": "markdown",
   "metadata": {},
   "source": [
    "### Loading required libraries"
   ]
  },
  {
   "cell_type": "code",
   "execution_count": 2,
   "metadata": {},
   "outputs": [],
   "source": [
    "import os\n",
    "import rasterio as rio\n",
    "from rasterio.plot import show\n",
    "import geopandas as gpd\n",
    "import fiona\n",
    "import matplotlib.pyplot as plt\n",
    "import seaborn as sns\n",
    "import numpy as np\n",
    "import pandas as pd\n",
    "import sklearn\n",
    "import pickle\n",
    "from sklearn.metrics import classification_report, accuracy_score"
   ]
  },
  {
   "attachments": {},
   "cell_type": "markdown",
   "metadata": {},
   "source": [
    "### Providing the path to the data"
   ]
  },
  {
   "cell_type": "code",
   "execution_count": 3,
   "metadata": {},
   "outputs": [],
   "source": [
    "# variables \n",
    "# Note: labels should be always last column with name \"labels\"\n",
    "# Note: Make sure input labels shapefile and input raster have same CRS, otherwise code will not run\n",
    "\n",
    "# input files\n",
    "raster_loc = 'materials/rasters/s2image.tif'\n",
    "points_loc = 'materials/shapefiles/samples.shp'\n",
    "temp_point_loc = 'materials/temp/temp_y_points.shp'\n",
    "temp_point_csv = 'export.csv'\n",
    "\n",
    "# land cover names (for post visualization)\n",
    "lulc_name = ['Water', 'Barren Land', 'Veg', 'Built-up']"
   ]
  },
  {
   "cell_type": "code",
   "execution_count": 4,
   "metadata": {},
   "outputs": [],
   "source": [
    "# make path file\n",
    "file_names = os.listdir('materials/rasters')\n",
    "file_names_list = [i[:-4] for i in file_names if i.endswith('.tif')]\n",
    "raster_loc_list = ['materials/rasters/' + i + '.tif' for i in file_names_list]\n",
    "points_loc_list = ['materials/shapefiles/' + i + '.shp' for i in file_names_list]\n",
    "temp_point_csv_list = ['materials/CSV/' + i + '.csv' for i in file_names_list]"
   ]
  },
  {
   "cell_type": "code",
   "execution_count": 5,
   "metadata": {},
   "outputs": [],
   "source": [
    "# check path\n",
    "# print(raster_loc_list,'\\n',points_loc_list,'\\n',temp_point_csv_list)"
   ]
  },
  {
   "cell_type": "code",
   "execution_count": 6,
   "metadata": {},
   "outputs": [],
   "source": [
    "def img_to_csv(raster_loc, points_loc, temp_point_csv):\n",
    "    \n",
    "    \n",
    "    with rio.open(raster_loc) as img:\n",
    "        bands = (img.read()).shape[0]\n",
    "    print('Bands of input image: ', bands)\n",
    "\n",
    "    # using ilteration to automatically create a bands list\n",
    "\n",
    "    features = []\n",
    "    for i in range(bands):\n",
    "        features.append('band'+str(i+1))\n",
    "    print('Bands names: ', features)\n",
    "    f_len = len(features)\n",
    "\n",
    "    points = gpd.read_file(points_loc)\n",
    "    # adding a new column 'id' with range of points\n",
    "    points = points.assign(id=range(len(points)))\n",
    "    # saving nenw point file with 'id'\n",
    "    points.to_file(temp_point_loc) \n",
    "    # converting gdf to pd df and removing geometry\n",
    "    points_df = pd.DataFrame(points.drop(columns='geometry'))\n",
    "\n",
    "    # ilterating over multiband raster\n",
    "    sampled = pd.Series()\n",
    "\n",
    "    #inputShape= temp_point_loc\n",
    "    # Read input shapefile with fiona and iterate over each feature\n",
    "    with fiona.open(temp_point_loc) as shp:\n",
    "        # checking the shapfile meta data\n",
    "        print(shp.meta) \n",
    "        print(shp.schema) \n",
    "        for feature in shp:\n",
    "            siteID = feature['properties']['id']\n",
    "            coords = feature['geometry']['coordinates']\n",
    "            # Read pixel value at the given coordinates using Rasterio\n",
    "            # NB: `sample()` returns an iterable of ndarrays.\n",
    "            with rio.open(raster_loc) as stack_src:\n",
    "                    value = [v for v in stack_src.sample([coords])]\n",
    "            # Update the pandas serie accordingly\n",
    "            sampled.loc[siteID] = value\n",
    "\n",
    "    # reshaping sampled values\n",
    "    df1 = pd.DataFrame(sampled.values.tolist(), index=sampled.index)\n",
    "    # df1['id'] = df1.index\n",
    "    df1 = pd.DataFrame(df1[0].values.tolist(), \n",
    "                    columns=features)\n",
    "\n",
    "    df1['id'] = df1.index\n",
    "\n",
    "    data = pd.merge(df1, points_df, on ='id')\n",
    "    print('Sampled Data: \\n',data)\n",
    "\n",
    "    data.to_csv(temp_point_csv)\n",
    "\n",
    "    x = data.iloc[:,0:f_len]\n",
    "    X = x.values\n",
    "    y = data.iloc[:,-1]\n",
    "    Y = y.values\n",
    "\n",
    "    return f_len\n",
    "    "
   ]
  },
  {
   "cell_type": "code",
   "execution_count": 7,
   "metadata": {},
   "outputs": [
    {
     "name": "stdout",
     "output_type": "stream",
     "text": [
      "Bands of input image:  4\n",
      "Bands names:  ['band1', 'band2', 'band3', 'band4']\n",
      "{'driver': 'ESRI Shapefile', 'schema': {'properties': {'labels': 'int:18', 'id': 'int:18'}, 'geometry': 'Point'}, 'crs': CRS.from_wkt('GEOGCS[\"WGS 84\",DATUM[\"WGS_1984\",SPHEROID[\"WGS 84\",6378137,298.257223563,AUTHORITY[\"EPSG\",\"7030\"]],AUTHORITY[\"EPSG\",\"6326\"]],PRIMEM[\"Greenwich\",0],UNIT[\"Degree\",0.0174532925199433],AXIS[\"Longitude\",EAST],AXIS[\"Latitude\",NORTH]]'), 'crs_wkt': 'GEOGCS[\"WGS 84\",DATUM[\"WGS_1984\",SPHEROID[\"WGS 84\",6378137,298.257223563,AUTHORITY[\"EPSG\",\"7030\"]],AUTHORITY[\"EPSG\",\"6326\"]],PRIMEM[\"Greenwich\",0],UNIT[\"Degree\",0.0174532925199433],AXIS[\"Longitude\",EAST],AXIS[\"Latitude\",NORTH]]'}\n",
      "{'properties': {'labels': 'int:18', 'id': 'int:18'}, 'geometry': 'Point'}\n",
      "Sampled Data: \n",
      "      band1   band2   band3   band4  id  labels\n",
      "0   0.2310  0.2676  0.1773  0.1217   0       1\n",
      "1   0.2266  0.2730  0.1889  0.1238   1       1\n",
      "2   0.2266  0.2558  0.1703  0.1220   2       1\n",
      "3   0.2222  0.2494  0.1616  0.1227   3       1\n",
      "4   0.2156  0.2304  0.1445  0.1218   4       1\n",
      "5   0.2300  0.2632  0.1697  0.1221   5       1\n",
      "6   0.2208  0.2406  0.1465  0.1210   6       1\n",
      "7   0.2238  0.2554  0.1642  0.1182   7       1\n",
      "8   0.2088  0.2272  0.1414  0.1153   8       1\n",
      "9   0.2244  0.2578  0.1762  0.1197   9       1\n",
      "10  0.1360  0.1451  0.1378  0.1794  10       2\n",
      "11  0.1865  0.2238  0.2474  0.2650  11       2\n",
      "12  0.1796  0.2072  0.2300  0.2440  12       2\n",
      "13  0.1766  0.2096  0.2226  0.2262  13       2\n",
      "14  0.1939  0.2212  0.2328  0.2442  14       2\n",
      "15  0.1860  0.2190  0.2228  0.2024  15       2\n",
      "16  0.1929  0.2236  0.2412  0.2650  16       2\n",
      "17  0.2228  0.2716  0.3122  0.3450  17       2\n",
      "18  0.2644  0.3174  0.3492  0.3736  18       2\n",
      "19  0.2598  0.3154  0.3442  0.3930  19       2\n",
      "20  0.2450  0.3032  0.3104  0.3706  20       2\n",
      "21  0.2014  0.2296  0.2512  0.2744  21       2\n",
      "22  0.1624  0.2028  0.2150  0.1972  22       2\n",
      "23  0.1632  0.2136  0.2196  0.2072  23       2\n",
      "24  0.1836  0.2142  0.2388  0.2556  24       2\n",
      "25  0.1838  0.2248  0.2688  0.2932  25       3\n",
      "26  0.1782  0.2170  0.2518  0.2630  26       3\n",
      "27  0.1772  0.2114  0.2490  0.3448  27       3\n",
      "28  0.1817  0.2296  0.2840  0.3224  28       3\n",
      "29  0.1593  0.2080  0.2482  0.2802  29       3\n",
      "Bands of input image:  4\n",
      "Bands names:  ['band1', 'band2', 'band3', 'band4']\n",
      "{'driver': 'ESRI Shapefile', 'schema': {'properties': {'labels': 'int:18', 'id': 'int:18'}, 'geometry': 'Point'}, 'crs': CRS.from_wkt('GEOGCS[\"WGS 84\",DATUM[\"WGS_1984\",SPHEROID[\"WGS 84\",6378137,298.257223563,AUTHORITY[\"EPSG\",\"7030\"]],AUTHORITY[\"EPSG\",\"6326\"]],PRIMEM[\"Greenwich\",0],UNIT[\"Degree\",0.0174532925199433],AXIS[\"Longitude\",EAST],AXIS[\"Latitude\",NORTH]]'), 'crs_wkt': 'GEOGCS[\"WGS 84\",DATUM[\"WGS_1984\",SPHEROID[\"WGS 84\",6378137,298.257223563,AUTHORITY[\"EPSG\",\"7030\"]],AUTHORITY[\"EPSG\",\"6326\"]],PRIMEM[\"Greenwich\",0],UNIT[\"Degree\",0.0174532925199433],AXIS[\"Longitude\",EAST],AXIS[\"Latitude\",NORTH]]'}\n",
      "{'properties': {'labels': 'int:18', 'id': 'int:18'}, 'geometry': 'Point'}\n",
      "Sampled Data: \n",
      "       band1    band2    band3    band4  id  labels\n",
      "0   0.15700  0.20900  0.16085  0.13625   0       1\n",
      "1   0.18120  0.24030  0.19535  0.16780   1       1\n",
      "2   0.16350  0.21480  0.16865  0.14070   2       1\n",
      "3   0.17430  0.23050  0.18885  0.15600   3       1\n",
      "4   0.18035  0.23080  0.19240  0.15720   4       1\n",
      "5   0.20200  0.21730  0.21820  0.23900   5       2\n",
      "6   0.19860  0.21460  0.21560  0.23570   6       2\n",
      "7   0.19390  0.21040  0.21110  0.23390   7       2\n",
      "8   0.23530  0.25280  0.26740  0.29640   8       2\n",
      "9   0.16350  0.19205  0.16960  0.42920   9       3\n",
      "10  0.17140  0.19680  0.19335  0.42775  10       3\n",
      "11  0.15670  0.17265  0.17710  0.31420  11       3\n",
      "12  0.17240  0.19860  0.19855  0.36330  12       3\n",
      "13  0.14420  0.16695  0.15120  0.40130  13       3\n",
      "14  0.15640  0.17880  0.16750  0.36960  14       3\n",
      "15  0.16020  0.19410  0.16970  0.46260  15       3\n",
      "16  0.14710  0.16865  0.15260  0.38390  16       3\n",
      "17  0.14355  0.16515  0.13880  0.47600  17       3\n",
      "18  0.21960  0.24130  0.25460  0.27395  18       2\n",
      "19  0.21950  0.25180  0.27350  0.33740  19       2\n",
      "20  0.32010  0.34720  0.48060  0.48300  20       4\n",
      "21  0.58300  0.83200  0.69780  0.70280  21       4\n",
      "22  0.46260  0.51460  0.55260  0.61980  22       4\n",
      "23  0.32130  0.35230  0.38390  0.43875  23       4\n",
      "24  0.27560  0.29520  0.31220  0.34705  24       4\n",
      "25  0.28490  0.30660  0.33660  0.38010  25       4\n",
      "26  0.35370  0.36130  0.36050  0.39090  26       4\n",
      "27  0.26800  0.27880  0.29250  0.33610  27       4\n",
      "28  0.30670  0.31960  0.34460  0.37050  28       4\n",
      "29  0.31000  0.35180  0.37390  0.42600  29       4\n",
      "30  0.26330  0.28880  0.29750  0.34890  30       4\n",
      "31  0.42770  0.40630  0.51500  0.52400  31       4\n",
      "32  0.50960  0.53500  0.58360  0.60560  32       4\n",
      "33  0.23330  0.27190  0.50800  0.48280  33       4\n",
      "34  0.61000  0.57720  0.64520  0.60185  34       4\n",
      "35  0.32540  0.37650  0.44540  0.49280  35       4\n",
      "36  0.67460  0.57800  0.53420  0.55240  36       4\n",
      "37  0.35770  0.36720  0.41620  0.47400  37       4\n",
      "38  0.31470  0.33160  0.36940  0.38160  38       4\n",
      "39  0.29280  0.31510  0.33990  0.38475  39       4\n",
      "40  0.17260  0.19065  0.19100  0.30570  40       3\n",
      "41  0.18080  0.21030  0.18425  0.45860  41       3\n",
      "42  0.16635  0.18675  0.17860  0.46240  42       3\n",
      "43  0.17405  0.20255  0.18595  0.41840  43       3\n",
      "44  0.52340  0.54160  0.51380  0.58380  44       4\n",
      "45  0.16700  0.18320  0.18120  0.31360  45       3\n",
      "Bands of input image:  4\n",
      "Bands names:  ['band1', 'band2', 'band3', 'band4']\n",
      "{'driver': 'ESRI Shapefile', 'schema': {'properties': {'labels': 'int:18', 'id': 'int:18'}, 'geometry': 'Point'}, 'crs': CRS.from_wkt('GEOGCS[\"WGS 84\",DATUM[\"WGS_1984\",SPHEROID[\"WGS 84\",6378137,298.257223563,AUTHORITY[\"EPSG\",\"7030\"]],AUTHORITY[\"EPSG\",\"6326\"]],PRIMEM[\"Greenwich\",0],UNIT[\"Degree\",0.0174532925199433],AXIS[\"Longitude\",EAST],AXIS[\"Latitude\",NORTH]]'), 'crs_wkt': 'GEOGCS[\"WGS 84\",DATUM[\"WGS_1984\",SPHEROID[\"WGS 84\",6378137,298.257223563,AUTHORITY[\"EPSG\",\"7030\"]],AUTHORITY[\"EPSG\",\"6326\"]],PRIMEM[\"Greenwich\",0],UNIT[\"Degree\",0.0174532925199433],AXIS[\"Longitude\",EAST],AXIS[\"Latitude\",NORTH]]'}\n",
      "{'properties': {'labels': 'int:18', 'id': 'int:18'}, 'geometry': 'Point'}\n",
      "Sampled Data: \n",
      "      band1   band2   band3   band4  id  labels\n",
      "0   0.1563  0.1684  0.1416  0.1194   0       1\n",
      "1   0.1730  0.2032  0.1586  0.1238   1       1\n",
      "2   0.1760  0.2050  0.1638  0.1270   2       1\n",
      "3   0.1402  0.1558  0.1320  0.1191   3       1\n",
      "4   0.1416  0.1575  0.1317  0.1202   4       1\n",
      "..     ...     ...     ...     ...  ..     ...\n",
      "68  0.6240  0.4760  0.6480  0.5504  68       4\n",
      "69  0.1985  0.2226  0.3492  0.3884  69       4\n",
      "70  0.1520  0.1744  0.1628  0.3834  70       3\n",
      "71  0.1414  0.1657  0.1416  0.4868  71       3\n",
      "72  0.1432  0.1639  0.1435  0.4042  72       3\n",
      "\n",
      "[73 rows x 6 columns]\n"
     ]
    }
   ],
   "source": [
    "for i in range(len(raster_loc_list)):\n",
    "    raster_loc = raster_loc_list[i]\n",
    "    points_loc = points_loc_list[i]\n",
    "    temp_point_csv = temp_point_csv_list[i]\n",
    "    f_len = img_to_csv(raster_loc, points_loc, temp_point_csv)"
   ]
  },
  {
   "attachments": {},
   "cell_type": "markdown",
   "metadata": {},
   "source": [
    "# read csv file from folder for build dataset"
   ]
  },
  {
   "cell_type": "code",
   "execution_count": 8,
   "metadata": {},
   "outputs": [
    {
     "data": {
      "text/html": [
       "<div>\n",
       "<style scoped>\n",
       "    .dataframe tbody tr th:only-of-type {\n",
       "        vertical-align: middle;\n",
       "    }\n",
       "\n",
       "    .dataframe tbody tr th {\n",
       "        vertical-align: top;\n",
       "    }\n",
       "\n",
       "    .dataframe thead th {\n",
       "        text-align: right;\n",
       "    }\n",
       "</style>\n",
       "<table border=\"1\" class=\"dataframe\">\n",
       "  <thead>\n",
       "    <tr style=\"text-align: right;\">\n",
       "      <th></th>\n",
       "      <th>band1</th>\n",
       "      <th>band2</th>\n",
       "      <th>band3</th>\n",
       "      <th>band4</th>\n",
       "      <th>id</th>\n",
       "      <th>labels</th>\n",
       "    </tr>\n",
       "  </thead>\n",
       "  <tbody>\n",
       "    <tr>\n",
       "      <th>0</th>\n",
       "      <td>0.2310</td>\n",
       "      <td>0.2676</td>\n",
       "      <td>0.1773</td>\n",
       "      <td>0.1217</td>\n",
       "      <td>0</td>\n",
       "      <td>1</td>\n",
       "    </tr>\n",
       "    <tr>\n",
       "      <th>1</th>\n",
       "      <td>0.2266</td>\n",
       "      <td>0.2730</td>\n",
       "      <td>0.1889</td>\n",
       "      <td>0.1238</td>\n",
       "      <td>1</td>\n",
       "      <td>1</td>\n",
       "    </tr>\n",
       "    <tr>\n",
       "      <th>2</th>\n",
       "      <td>0.2266</td>\n",
       "      <td>0.2558</td>\n",
       "      <td>0.1703</td>\n",
       "      <td>0.1220</td>\n",
       "      <td>2</td>\n",
       "      <td>1</td>\n",
       "    </tr>\n",
       "    <tr>\n",
       "      <th>3</th>\n",
       "      <td>0.2222</td>\n",
       "      <td>0.2494</td>\n",
       "      <td>0.1616</td>\n",
       "      <td>0.1227</td>\n",
       "      <td>3</td>\n",
       "      <td>1</td>\n",
       "    </tr>\n",
       "    <tr>\n",
       "      <th>4</th>\n",
       "      <td>0.2156</td>\n",
       "      <td>0.2304</td>\n",
       "      <td>0.1445</td>\n",
       "      <td>0.1218</td>\n",
       "      <td>4</td>\n",
       "      <td>1</td>\n",
       "    </tr>\n",
       "    <tr>\n",
       "      <th>...</th>\n",
       "      <td>...</td>\n",
       "      <td>...</td>\n",
       "      <td>...</td>\n",
       "      <td>...</td>\n",
       "      <td>...</td>\n",
       "      <td>...</td>\n",
       "    </tr>\n",
       "    <tr>\n",
       "      <th>144</th>\n",
       "      <td>0.6240</td>\n",
       "      <td>0.4760</td>\n",
       "      <td>0.6480</td>\n",
       "      <td>0.5504</td>\n",
       "      <td>144</td>\n",
       "      <td>4</td>\n",
       "    </tr>\n",
       "    <tr>\n",
       "      <th>145</th>\n",
       "      <td>0.1985</td>\n",
       "      <td>0.2226</td>\n",
       "      <td>0.3492</td>\n",
       "      <td>0.3884</td>\n",
       "      <td>145</td>\n",
       "      <td>4</td>\n",
       "    </tr>\n",
       "    <tr>\n",
       "      <th>146</th>\n",
       "      <td>0.1520</td>\n",
       "      <td>0.1744</td>\n",
       "      <td>0.1628</td>\n",
       "      <td>0.3834</td>\n",
       "      <td>146</td>\n",
       "      <td>3</td>\n",
       "    </tr>\n",
       "    <tr>\n",
       "      <th>147</th>\n",
       "      <td>0.1414</td>\n",
       "      <td>0.1657</td>\n",
       "      <td>0.1416</td>\n",
       "      <td>0.4868</td>\n",
       "      <td>147</td>\n",
       "      <td>3</td>\n",
       "    </tr>\n",
       "    <tr>\n",
       "      <th>148</th>\n",
       "      <td>0.1432</td>\n",
       "      <td>0.1639</td>\n",
       "      <td>0.1435</td>\n",
       "      <td>0.4042</td>\n",
       "      <td>148</td>\n",
       "      <td>3</td>\n",
       "    </tr>\n",
       "  </tbody>\n",
       "</table>\n",
       "<p>149 rows × 6 columns</p>\n",
       "</div>"
      ],
      "text/plain": [
       "      band1   band2   band3   band4   id  labels\n",
       "0    0.2310  0.2676  0.1773  0.1217    0       1\n",
       "1    0.2266  0.2730  0.1889  0.1238    1       1\n",
       "2    0.2266  0.2558  0.1703  0.1220    2       1\n",
       "3    0.2222  0.2494  0.1616  0.1227    3       1\n",
       "4    0.2156  0.2304  0.1445  0.1218    4       1\n",
       "..      ...     ...     ...     ...  ...     ...\n",
       "144  0.6240  0.4760  0.6480  0.5504  144       4\n",
       "145  0.1985  0.2226  0.3492  0.3884  145       4\n",
       "146  0.1520  0.1744  0.1628  0.3834  146       3\n",
       "147  0.1414  0.1657  0.1416  0.4868  147       3\n",
       "148  0.1432  0.1639  0.1435  0.4042  148       3\n",
       "\n",
       "[149 rows x 6 columns]"
      ]
     },
     "execution_count": 8,
     "metadata": {},
     "output_type": "execute_result"
    }
   ],
   "source": [
    "All_df = pd.DataFrame()\n",
    "for file in temp_point_csv_list:\n",
    "    df = pd.read_csv(file, index_col=[0])\n",
    "    All_df = pd.concat([All_df, df], ignore_index=True)\n",
    "\n",
    "All_df['id'] = All_df.index\n",
    "All_df"
   ]
  },
  {
   "attachments": {},
   "cell_type": "markdown",
   "metadata": {},
   "source": [
    "# set X and Y values"
   ]
  },
  {
   "cell_type": "code",
   "execution_count": 9,
   "metadata": {},
   "outputs": [],
   "source": [
    "x = All_df.iloc[:,0:-2]\n",
    "X = x.values\n",
    "y = All_df.iloc[:,-1]\n",
    "Y = y.values"
   ]
  },
  {
   "attachments": {},
   "cell_type": "markdown",
   "metadata": {},
   "source": [
    "# Test and Train split"
   ]
  },
  {
   "cell_type": "code",
   "execution_count": 10,
   "metadata": {},
   "outputs": [
    {
     "name": "stdout",
     "output_type": "stream",
     "text": [
      "X_train Shape: (104, 4)\n",
      "X_test Shape: (45, 4)\n",
      "y_train Shape: (104,)\n",
      "y_test Shape:(45,)\n"
     ]
    }
   ],
   "source": [
    "from sklearn.model_selection import train_test_split\n",
    "\n",
    "X_train, X_test, y_train, y_test = train_test_split(X, Y, test_size=0.30, stratify = Y)\n",
    "\n",
    "print(f'X_train Shape: {X_train.shape}\\nX_test Shape: {X_test.shape}\\ny_train Shape: {y_train.shape}\\ny_test Shape:{y_test.shape}')"
   ]
  },
  {
   "attachments": {},
   "cell_type": "markdown",
   "metadata": {},
   "source": [
    "# Support Vector Machine (SVM)"
   ]
  },
  {
   "cell_type": "code",
   "execution_count": 11,
   "metadata": {},
   "outputs": [
    {
     "name": "stdout",
     "output_type": "stream",
     "text": [
      "Accuracy SVM: 91.11111111111111\n",
      "              precision    recall  f1-score   support\n",
      "\n",
      "           1       1.00      1.00      1.00         6\n",
      "           2       0.89      0.73      0.80        11\n",
      "           3       1.00      1.00      1.00        13\n",
      "           4       0.82      0.93      0.87        15\n",
      "\n",
      "    accuracy                           0.91        45\n",
      "   macro avg       0.93      0.92      0.92        45\n",
      "weighted avg       0.91      0.91      0.91        45\n",
      "\n",
      "Confusion Matrix RF: \n",
      " [[ 6  0  0  0]\n",
      " [ 0  8  0  3]\n",
      " [ 0  0 13  0]\n",
      " [ 0  1  0 14]]\n"
     ]
    },
    {
     "data": {
      "text/plain": [
       "Text(48.65625, 0.5, 'Actual')"
      ]
     },
     "execution_count": 11,
     "metadata": {},
     "output_type": "execute_result"
    },
    {
     "data": {
      "image/png": "[encoded data removed]",
      "text/plain": [
       "<Figure size 700x700 with 1 Axes>"
      ]
     },
     "metadata": {},
     "output_type": "display_data"
    }
   ],
   "source": [
    "from sklearn.svm import SVC\n",
    "from sklearn.metrics import confusion_matrix\n",
    "cName = 'SVM'\n",
    "clf_svm = SVC(kernel='rbf')\n",
    "clf_svm.fit(X_train, y_train)\n",
    "\n",
    "clf_pred = clf_svm.predict(X_test)\n",
    "\n",
    "print(f\"Accuracy {cName}: {accuracy_score(y_test, clf_pred)*100}\")\n",
    "print(classification_report(y_test, clf_pred))\n",
    "\n",
    "# Confusion Matrix\n",
    "cm = confusion_matrix(y_test, clf_pred)\n",
    "print('Confusion Matrix RF: \\n',cm)\n",
    "cm_percent = cm/np.sum(cm)\n",
    "\n",
    "plt.figure(figsize=(7, 7), facecolor='w', edgecolor='k')\n",
    "sns.set(font_scale=1.5)\n",
    "\n",
    "sns.heatmap(cm_percent,\n",
    "            xticklabels=lulc_name,\n",
    "            yticklabels=lulc_name,\n",
    "            cmap=\"YlGn\",\n",
    "            annot=True,\n",
    "            fmt='.2%',\n",
    "            cbar=False,\n",
    "            linewidths=2,\n",
    "            linecolor='black')\n",
    "\n",
    "plt.title(cName)\n",
    "plt.xlabel('Predicted')\n",
    "plt.ylabel('Actual')\n",
    "#plt.savefig(f'../figs/confusion_matrix_{cName}.png', dpi=300, bbox_inches='tight')"
   ]
  },
  {
   "attachments": {},
   "cell_type": "markdown",
   "metadata": {},
   "source": [
    "# Save SVM Model"
   ]
  },
  {
   "cell_type": "code",
   "execution_count": 20,
   "metadata": {},
   "outputs": [
    {
     "name": "stdout",
     "output_type": "stream",
     "text": [
      "SVM Model Score:  0.9111111111111111\n"
     ]
    }
   ],
   "source": [
    "# save the model to disk\n",
    "filename = 'Model/finalized_model_svm.sav'\n",
    "pickle.dump(clf_svm, open(filename, 'wb'))\n",
    " \n",
    " \n",
    "# load the model from disk\n",
    "loaded_model = pickle.load(open(filename, 'rb'))\n",
    "result = loaded_model.score(X_test, y_test)\n",
    "print('SVM Model Score: ', result)"
   ]
  },
  {
   "attachments": {},
   "cell_type": "markdown",
   "metadata": {},
   "source": [
    "## full data reshaping, predicting, and saving output"
   ]
  },
  {
   "cell_type": "code",
   "execution_count": 13,
   "metadata": {},
   "outputs": [],
   "source": [
    "def image_mapper_SVM(raster_loc, raster_file_name):\n",
    "    \n",
    "    cName = 'SVM'\n",
    "    exp_name = f'materials/results/lulc_{cName}_{raster_file_name}.tif'\n",
    "\n",
    "\n",
    "    img = rio.open(raster_loc)\n",
    "    img_arr = img.read()\n",
    "    bands = img_arr.shape[0]\n",
    "    print(f'Height: {img_arr.shape[1]}\\nWidth: {img_arr.shape[2]}\\nBands: {img_arr.shape[0]}\\n')\n",
    "    img_n = np.moveaxis(img_arr, 0, -1) # change shape: (4, 406, 763) ===> (406, 763, 4)\n",
    "    img_n = img_n.reshape(-1, f_len) # change shape: (406, 763, 4) ===> (406*763, 4)\n",
    "    print('reshaped full data shape  for prediction: ',img_n.shape)\n",
    "    metadata = img.meta\n",
    "    height = metadata.get('height')\n",
    "    width = metadata.get('width')\n",
    "    crs = metadata.get('crs')\n",
    "    transform = metadata.get('transform')\n",
    "\n",
    "\n",
    "    pred_full = loaded_model.predict(img_n)\n",
    "\n",
    "    print('Prediction Done, now exporting raster \\n')\n",
    "\n",
    "    img_reshape = pred_full.reshape(height, width)\n",
    "\n",
    "    out_raster = rio.open(exp_name,\n",
    "                                            'w',\n",
    "                                            driver='GTiff',\n",
    "                                            height=height,\n",
    "                                            width=width,\n",
    "                                            count=1,\n",
    "                                            dtype='uint8',\n",
    "                                            crs=crs,\n",
    "                                            transform = transform,\n",
    "                                            nodata = 255 #nodata\n",
    "                                            )\n",
    "\n",
    "    out_raster.write(img_reshape, 1)\n",
    "    out_raster.close()\n",
    "\n",
    "    print(f'Raster Map of {raster_file_name} generated by {cName} algorithm was saved!')\n",
    "    print(100*'#','\\n\\n')"
   ]
  },
  {
   "cell_type": "code",
   "execution_count": 14,
   "metadata": {},
   "outputs": [
    {
     "name": "stdout",
     "output_type": "stream",
     "text": [
      "Height: 960\n",
      "Width: 1621\n",
      "Bands: 4\n",
      "\n",
      "reshaped full data shape  for prediction:  (1556160, 4)\n",
      "Prediction Done, now exporting raster \n",
      "\n",
      "Raster Map of area1 generated by SVM algorithm was saved!\n",
      "#################################################################################################### \n",
      "\n",
      "\n",
      "Height: 209\n",
      "Width: 451\n",
      "Bands: 4\n",
      "\n",
      "reshaped full data shape  for prediction:  (94259, 4)\n",
      "Prediction Done, now exporting raster \n",
      "\n",
      "Raster Map of area2 generated by SVM algorithm was saved!\n",
      "#################################################################################################### \n",
      "\n",
      "\n",
      "Height: 357\n",
      "Width: 578\n",
      "Bands: 4\n",
      "\n",
      "reshaped full data shape  for prediction:  (206346, 4)\n",
      "Prediction Done, now exporting raster \n",
      "\n",
      "Raster Map of area3 generated by SVM algorithm was saved!\n",
      "#################################################################################################### \n",
      "\n",
      "\n"
     ]
    }
   ],
   "source": [
    "for i, path_file in enumerate(raster_loc_list):\n",
    "    image_mapper_SVM(path_file, file_names_list[i])"
   ]
  },
  {
   "attachments": {},
   "cell_type": "markdown",
   "metadata": {},
   "source": [
    "## Random Forest"
   ]
  },
  {
   "cell_type": "code",
   "execution_count": 15,
   "metadata": {},
   "outputs": [
    {
     "name": "stdout",
     "output_type": "stream",
     "text": [
      "Accuracy RF: 93.33333333333333\n",
      "              precision    recall  f1-score   support\n",
      "\n",
      "           1       1.00      1.00      1.00         6\n",
      "           2       1.00      0.73      0.84        11\n",
      "           3       1.00      1.00      1.00        13\n",
      "           4       0.83      1.00      0.91        15\n",
      "\n",
      "    accuracy                           0.93        45\n",
      "   macro avg       0.96      0.93      0.94        45\n",
      "weighted avg       0.94      0.93      0.93        45\n",
      "\n",
      "Confusion Matrix RF: \n",
      " [[ 6  0  0  0]\n",
      " [ 0  8  0  3]\n",
      " [ 0  0 13  0]\n",
      " [ 0  0  0 15]]\n",
      "CPU times: total: 15.6 ms\n",
      "Wall time: 469 ms\n"
     ]
    },
    {
     "data": {
      "text/plain": [
       "Text(48.65625, 0.5, 'Actual')"
      ]
     },
     "execution_count": 15,
     "metadata": {},
     "output_type": "execute_result"
    },
    {
     "data": {
      "image/png": "[encoded data removed]",
      "text/plain": [
       "<Figure size 700x700 with 1 Axes>"
      ]
     },
     "metadata": {},
     "output_type": "display_data"
    }
   ],
   "source": [
    "%%time\n",
    "from sklearn.ensemble import RandomForestClassifier\n",
    "from sklearn.metrics import confusion_matrix\n",
    "\n",
    "cName = 'RF'\n",
    "\n",
    "\n",
    "clf_RF = RandomForestClassifier(random_state=42)\n",
    "clf_RF.fit(X_train, y_train)\n",
    "\n",
    "clf_pred = clf_RF.predict(X_test)\n",
    "\n",
    "print(f\"Accuracy {cName}: {accuracy_score(y_test, clf_pred)*100}\")\n",
    "print(classification_report(y_test, clf_pred))\n",
    "\n",
    "\n",
    "# Confusion Matrix\n",
    "\n",
    "cm = confusion_matrix(y_test, clf_pred)\n",
    "print('Confusion Matrix RF: \\n',cm)\n",
    "cm_percent = cm/np.sum(cm)\n",
    "\n",
    "plt.figure(figsize=(7, 7), facecolor='w', edgecolor='k')\n",
    "sns.set(font_scale=1.5)\n",
    "\n",
    "sns.heatmap(cm_percent,\n",
    "            xticklabels=lulc_name,\n",
    "            yticklabels=lulc_name,\n",
    "            cmap=\"YlGn\",\n",
    "            annot=True,\n",
    "            fmt='.2%',\n",
    "            cbar=False,\n",
    "            linewidths=2,\n",
    "            linecolor='black')\n",
    "\n",
    "plt.title(cName)\n",
    "plt.xlabel('Predicted')\n",
    "plt.ylabel('Actual')\n",
    "#plt.savefig(f'../figs/confusion_matrix_{cName}.png', dpi=300, bbox_inches='tight')"
   ]
  },
  {
   "attachments": {},
   "cell_type": "markdown",
   "metadata": {},
   "source": [
    "# Save RF Model"
   ]
  },
  {
   "cell_type": "code",
   "execution_count": 16,
   "metadata": {},
   "outputs": [
    {
     "name": "stdout",
     "output_type": "stream",
     "text": [
      "0.9333333333333333\n"
     ]
    }
   ],
   "source": [
    "filename = 'Model/finalized_model_RF.sav'\n",
    "pickle.dump(clf_RF, open(filename, 'wb'))\n",
    " \n",
    " \n",
    "# load the model from disk\n",
    "loaded_model = pickle.load(open(filename, 'rb'))\n",
    "result = loaded_model.score(X_test, y_test)\n",
    "print('RF Model Score', result)"
   ]
  },
  {
   "attachments": {},
   "cell_type": "markdown",
   "metadata": {},
   "source": [
    "## full data reshaping, predicting, and saving output"
   ]
  },
  {
   "cell_type": "code",
   "execution_count": 17,
   "metadata": {},
   "outputs": [],
   "source": [
    "def image_mapper_RF(raster_loc, raster_file_name):\n",
    "\n",
    "    cName = 'RF'\n",
    "    exp_name = f'materials/results/lulc_{cName}_{raster_file_name}.tif'\n",
    "\n",
    "\n",
    "    img = rio.open(raster_loc)\n",
    "    img_arr = img.read()\n",
    "    bands = img_arr.shape[0]\n",
    "    print(f'Height: {img_arr.shape[1]}\\nWidth: {img_arr.shape[2]}\\nBands: {img_arr.shape[0]}\\n')\n",
    "    img_n = np.moveaxis(img_arr, 0, -1) # change shape: (4, 406, 763) ===> (406, 763, 4)\n",
    "    img_n = img_n.reshape(-1, f_len) # change shape: (406, 763, 4) ===> (406*763, 4)\n",
    "    print('reshaped full data shape  for prediction: ',img_n.shape)\n",
    "\n",
    "\n",
    "    pred_full = loaded_model.predict(img_n)\n",
    "\n",
    "    print('Prediction Done, now exporting raster \\n')\n",
    "    # Predefining out raster meta using variable raster\n",
    "    tempfile_arr = img.read(1)\n",
    "    tempfile_arr = tempfile_arr.reshape(-1,1)\n",
    "    metadata = img.meta\n",
    "\n",
    "    height = metadata.get('height')\n",
    "    width = metadata.get('width')\n",
    "    crs = metadata.get('crs')\n",
    "    transform = metadata.get('transform')\n",
    "\n",
    "    img_reshape = pred_full.reshape(height, width)\n",
    "\n",
    "    out_raster = rio.open(exp_name,\n",
    "                                            'w',\n",
    "                                            driver='GTiff',\n",
    "                                            height=height,\n",
    "                                            width=width,\n",
    "                                            count=1,\n",
    "                                            dtype='uint8',\n",
    "                                            crs=crs,\n",
    "                                            transform = transform,\n",
    "                                            nodata = 255 #nodata\n",
    "                                            )\n",
    "\n",
    "    out_raster.write(img_reshape, 1)\n",
    "    out_raster.close()\n",
    "\n",
    "    print(f'Raster Map of {raster_file_name} generated by {cName} algorithm was saved!')\n",
    "    print(100*'#','\\n\\n')"
   ]
  },
  {
   "cell_type": "code",
   "execution_count": 18,
   "metadata": {},
   "outputs": [
    {
     "name": "stdout",
     "output_type": "stream",
     "text": [
      "Height: 960\n",
      "Width: 1621\n",
      "Bands: 4\n",
      "\n",
      "reshaped full data shape  for prediction:  (1556160, 4)\n",
      "Prediction Done, now exporting raster \n",
      "\n",
      "Raster Map of area1 generated by RF algorithm was saved!\n",
      "#################################################################################################### \n",
      "\n",
      "\n",
      "Height: 209\n",
      "Width: 451\n",
      "Bands: 4\n",
      "\n",
      "reshaped full data shape  for prediction:  (94259, 4)\n",
      "Prediction Done, now exporting raster \n",
      "\n",
      "Raster Map of area2 generated by RF algorithm was saved!\n",
      "#################################################################################################### \n",
      "\n",
      "\n",
      "Height: 357\n",
      "Width: 578\n",
      "Bands: 4\n",
      "\n",
      "reshaped full data shape  for prediction:  (206346, 4)\n",
      "Prediction Done, now exporting raster \n",
      "\n",
      "Raster Map of area3 generated by RF algorithm was saved!\n",
      "#################################################################################################### \n",
      "\n",
      "\n"
     ]
    }
   ],
   "source": [
    "for i, path_file in enumerate(raster_loc_list):\n",
    "    image_mapper_RF(path_file, file_names_list[i])"
   ]
  }
 ],
 "metadata": {
  "kernelspec": {
   "display_name": "geo",
   "language": "python",
   "name": "python3"
  },
  "language_info": {
   "codemirror_mode": {
    "name": "ipython",
    "version": 3
   },
   "file_extension": ".py",
   "mimetype": "text/x-python",
   "name": "python",
   "nbconvert_exporter": "python",
   "pygments_lexer": "ipython3",
   "version": "3.11.3"
  },
  "orig_nbformat": 4
 },
 "nbformat": 4,
 "nbformat_minor": 2
}
